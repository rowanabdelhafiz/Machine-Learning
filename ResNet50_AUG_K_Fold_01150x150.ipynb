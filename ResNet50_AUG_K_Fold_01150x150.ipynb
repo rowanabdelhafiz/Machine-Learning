{
 "cells": [
  {
   "cell_type": "code",
   "execution_count": 1,
   "metadata": {},
   "outputs": [],
   "source": [
    "import numpy as np\n",
    "import tensorflow as tf\n",
    "from tensorflow.keras.models import Model, Sequential\n",
    "from keras.layers import (\n",
    "    Dense,\n",
    "    Flatten,\n",
    "    Dropout,\n",
    "    Input,\n",
    ")\n",
    "from tensorflow.keras.preprocessing.image import ImageDataGenerator\n",
    "from sklearn.preprocessing import LabelBinarizer\n",
    "from sklearn.metrics import (\n",
    "    accuracy_score,\n",
    "    precision_score,\n",
    "    recall_score,\n",
    "    confusion_matrix,\n",
    "    f1_score,\n",
    ")\n",
    "import pandas as pd\n",
    "import matplotlib.pyplot as plt\n",
    "import seaborn as sns\n",
    "import os\n",
    "import glob as gb\n",
    "import cv2\n",
    "from tqdm import tqdm\n",
    "from collections import Counter\n",
    "from sklearn.model_selection import train_test_split\n",
    "from keras.applications import resnet"
   ]
  },
  {
   "cell_type": "code",
   "execution_count": 2,
   "metadata": {},
   "outputs": [],
   "source": [
    "shape = (150, 150, 3)\n",
    "image_size = 150\n",
    "path = \"./Images/\""
   ]
  },
  {
   "cell_type": "code",
   "execution_count": 3,
   "metadata": {},
   "outputs": [],
   "source": [
    "def read_images_from_directory(\n",
    "    folder_path,\n",
    "    desc,\n",
    "):\n",
    "    images = []\n",
    "    labels = []\n",
    "\n",
    "    for folder in os.listdir(folder_path):\n",
    "        files = gb.glob(pathname=str(folder_path + \"/\" + folder + \"/*.jpg\"))\n",
    "\n",
    "        for file in tqdm(files, desc=desc + \" in \" + folder):\n",
    "            image = plt.imread(file)\n",
    "            img_resized = cv2.resize(image, (image_size, image_size))\n",
    "            img_rgb = cv2.cvtColor(img_resized, cv2.COLOR_BGR2RGB)\n",
    "            images.append(img_rgb)\n",
    "            labels.append(folder)\n",
    "\n",
    "    return images, labels"
   ]
  },
  {
   "cell_type": "code",
   "execution_count": 4,
   "metadata": {},
   "outputs": [
    {
     "name": "stderr",
     "output_type": "stream",
     "text": [
      "Loading Training Data in glioma_tumor: 100%|██████████| 4630/4630 [00:15<00:00, 292.97it/s]\n",
      "Loading Training Data in meningioma_tumor: 100%|██████████| 4685/4685 [00:15<00:00, 296.17it/s]\n",
      "Loading Training Data in no_tumor: 100%|██████████| 4999/4999 [00:14<00:00, 333.47it/s]\n",
      "Loading Training Data in pituitary_tumor: 100%|██████████| 4504/4504 [00:24<00:00, 186.10it/s]\n"
     ]
    }
   ],
   "source": [
    "x, y = read_images_from_directory(path, \"Loading Training Data\")"
   ]
  },
  {
   "cell_type": "code",
   "execution_count": 5,
   "metadata": {},
   "outputs": [
    {
     "data": {
      "text/plain": [
       "18818"
      ]
     },
     "execution_count": 5,
     "metadata": {},
     "output_type": "execute_result"
    }
   ],
   "source": [
    "x_data = np.array(x)\n",
    "len(x_data)"
   ]
  },
  {
   "cell_type": "code",
   "execution_count": 6,
   "metadata": {},
   "outputs": [],
   "source": [
    "lb = LabelBinarizer()\n",
    "y_data = lb.fit_transform(y)"
   ]
  },
  {
   "cell_type": "code",
   "execution_count": 7,
   "metadata": {},
   "outputs": [],
   "source": [
    "from sklearn.model_selection import train_test_split\n",
    "\n",
    "x_temp, x_test, y_temp, y_test = train_test_split(\n",
    "    x_data, y_data, test_size=0.2, random_state=42\n",
    ")"
   ]
  },
  {
   "cell_type": "code",
   "execution_count": 8,
   "metadata": {},
   "outputs": [],
   "source": [
    "from sklearn.model_selection import KFold\n",
    "\n",
    "kf = KFold(n_splits=5, shuffle=True, random_state=42)\n",
    "fold_no = 1\n",
    "acc_per_fold = []\n",
    "loss_per_fold = []"
   ]
  },
  {
   "cell_type": "code",
   "execution_count": 9,
   "metadata": {},
   "outputs": [],
   "source": [
    "def create_model():\n",
    "    model = Sequential()\n",
    "    model.add(Input(shape=shape))\n",
    "\n",
    "    base_model = resnet.ResNet50(\n",
    "        include_top=False, input_shape=shape, weights=\"imagenet\"\n",
    "    )\n",
    "\n",
    "    for layer in base_model.layers:\n",
    "        layer.trainable = False\n",
    "\n",
    "    model.add(base_model)\n",
    "    model.add(Flatten())\n",
    "    model.add(Dense(512, activation=\"relu\"))\n",
    "    model.add(Dropout(0.3))\n",
    "    model.add(Dense(4, activation=\"softmax\"))\n",
    "\n",
    "    model.compile(\n",
    "        optimizer=\"adam\", loss=\"categorical_crossentropy\", metrics=[\"accuracy\"]\n",
    "    )\n",
    "    # model.summary()\n",
    "    return model"
   ]
  },
  {
   "cell_type": "code",
   "execution_count": 10,
   "metadata": {},
   "outputs": [
    {
     "name": "stdout",
     "output_type": "stream",
     "text": [
      "Model: \"sequential\"\n",
      "_________________________________________________________________\n",
      " Layer (type)                Output Shape              Param #   \n",
      "=================================================================\n",
      " resnet50 (Functional)       (None, 5, 5, 2048)        23587712  \n",
      "                                                                 \n",
      " flatten (Flatten)           (None, 51200)             0         \n",
      "                                                                 \n",
      " dense (Dense)               (None, 512)               26214912  \n",
      "                                                                 \n",
      " dropout (Dropout)           (None, 512)               0         \n",
      "                                                                 \n",
      " dense_1 (Dense)             (None, 4)                 2052      \n",
      "                                                                 \n",
      "=================================================================\n",
      "Total params: 49,804,676\n",
      "Trainable params: 26,216,964\n",
      "Non-trainable params: 23,587,712\n",
      "_________________________________________________________________\n"
     ]
    }
   ],
   "source": [
    "model = create_model()\n",
    "model.summary()"
   ]
  },
  {
   "cell_type": "code",
   "execution_count": 11,
   "metadata": {},
   "outputs": [],
   "source": [
    "from tensorflow.keras.callbacks import EarlyStopping\n",
    "\n",
    "earlystop = EarlyStopping(\n",
    "    monitor=\"val_loss\", min_delta=0, patience=10, verbose=1, restore_best_weights=True\n",
    ")"
   ]
  },
  {
   "cell_type": "code",
   "execution_count": 12,
   "metadata": {},
   "outputs": [
    {
     "name": "stdout",
     "output_type": "stream",
     "text": [
      "Training fold 1...\n",
      "Epoch 1/50\n",
      "377/377 [==============================] - 43s 85ms/step - loss: 2.2625 - accuracy: 0.7583 - val_loss: 0.3544 - val_accuracy: 0.8579\n",
      "Epoch 2/50\n",
      "377/377 [==============================] - 30s 79ms/step - loss: 0.3595 - accuracy: 0.8636 - val_loss: 0.2957 - val_accuracy: 0.8907\n",
      "Epoch 3/50\n",
      "377/377 [==============================] - 29s 78ms/step - loss: 0.2654 - accuracy: 0.8950 - val_loss: 0.2285 - val_accuracy: 0.9153\n",
      "Epoch 4/50\n",
      "377/377 [==============================] - 29s 78ms/step - loss: 0.2083 - accuracy: 0.9196 - val_loss: 0.2507 - val_accuracy: 0.9150\n",
      "Epoch 5/50\n",
      "377/377 [==============================] - 29s 78ms/step - loss: 0.1971 - accuracy: 0.9264 - val_loss: 0.2303 - val_accuracy: 0.9263\n",
      "Epoch 6/50\n",
      "377/377 [==============================] - 30s 78ms/step - loss: 0.1610 - accuracy: 0.9376 - val_loss: 0.3241 - val_accuracy: 0.8970\n",
      "Epoch 7/50\n",
      "377/377 [==============================] - 30s 79ms/step - loss: 0.1535 - accuracy: 0.9444 - val_loss: 0.2698 - val_accuracy: 0.9276\n",
      "Epoch 8/50\n",
      "377/377 [==============================] - 30s 79ms/step - loss: 0.1443 - accuracy: 0.9478 - val_loss: 0.2508 - val_accuracy: 0.9309\n",
      "Epoch 9/50\n",
      "377/377 [==============================] - 30s 79ms/step - loss: 0.1307 - accuracy: 0.9519 - val_loss: 0.3513 - val_accuracy: 0.9070\n",
      "Epoch 10/50\n",
      "377/377 [==============================] - 30s 80ms/step - loss: 0.1670 - accuracy: 0.9444 - val_loss: 0.2277 - val_accuracy: 0.9259\n",
      "Epoch 11/50\n",
      "377/377 [==============================] - 31s 83ms/step - loss: 0.1448 - accuracy: 0.9484 - val_loss: 0.2261 - val_accuracy: 0.9382\n",
      "Epoch 12/50\n",
      "377/377 [==============================] - 30s 78ms/step - loss: 0.1117 - accuracy: 0.9592 - val_loss: 0.2829 - val_accuracy: 0.9293\n",
      "Epoch 13/50\n",
      "377/377 [==============================] - 29s 78ms/step - loss: 0.1103 - accuracy: 0.9595 - val_loss: 0.2617 - val_accuracy: 0.9379\n",
      "Epoch 14/50\n",
      "377/377 [==============================] - 29s 78ms/step - loss: 0.1161 - accuracy: 0.9630 - val_loss: 0.2654 - val_accuracy: 0.9346\n",
      "Epoch 15/50\n",
      "377/377 [==============================] - 29s 77ms/step - loss: 0.1220 - accuracy: 0.9574 - val_loss: 0.2515 - val_accuracy: 0.9349\n",
      "Epoch 16/50\n",
      "377/377 [==============================] - 29s 78ms/step - loss: 0.0807 - accuracy: 0.9713 - val_loss: 0.2807 - val_accuracy: 0.9422\n",
      "Epoch 17/50\n",
      "377/377 [==============================] - 29s 77ms/step - loss: 0.0990 - accuracy: 0.9661 - val_loss: 0.2462 - val_accuracy: 0.9379\n",
      "Epoch 18/50\n",
      "377/377 [==============================] - 30s 80ms/step - loss: 0.0864 - accuracy: 0.9674 - val_loss: 0.2885 - val_accuracy: 0.9376\n",
      "Epoch 19/50\n",
      "377/377 [==============================] - 30s 81ms/step - loss: 0.0964 - accuracy: 0.9670 - val_loss: 0.2499 - val_accuracy: 0.9435\n",
      "Epoch 20/50\n",
      "377/377 [==============================] - 30s 79ms/step - loss: 0.0859 - accuracy: 0.9710 - val_loss: 0.2578 - val_accuracy: 0.9399\n",
      "Epoch 21/50\n",
      "376/377 [============================>.] - ETA: 0s - loss: 0.1031 - accuracy: 0.9659Restoring model weights from the end of the best epoch: 11.\n",
      "377/377 [==============================] - 30s 79ms/step - loss: 0.1038 - accuracy: 0.9659 - val_loss: 0.3237 - val_accuracy: 0.9422\n",
      "Epoch 21: early stopping\n",
      "Score for fold 1: loss of 0.2260897308588028; accuracy of 93.82265210151672%\n",
      "[93.82265210151672]\n",
      "[0.2260897308588028]\n",
      "Training fold 2...\n",
      "Epoch 1/50\n",
      "377/377 [==============================] - 35s 83ms/step - loss: 1.9469 - accuracy: 0.7550 - val_loss: 0.3849 - val_accuracy: 0.8479\n",
      "Epoch 2/50\n",
      "377/377 [==============================] - 30s 79ms/step - loss: 0.3774 - accuracy: 0.8554 - val_loss: 0.3175 - val_accuracy: 0.8831\n",
      "Epoch 3/50\n",
      "377/377 [==============================] - 30s 80ms/step - loss: 0.3019 - accuracy: 0.8871 - val_loss: 0.2399 - val_accuracy: 0.9130\n",
      "Epoch 4/50\n",
      "377/377 [==============================] - 30s 80ms/step - loss: 0.2200 - accuracy: 0.9151 - val_loss: 0.2218 - val_accuracy: 0.9229\n",
      "Epoch 5/50\n",
      "377/377 [==============================] - 30s 80ms/step - loss: 0.1928 - accuracy: 0.9269 - val_loss: 0.2203 - val_accuracy: 0.9206\n",
      "Epoch 6/50\n",
      "377/377 [==============================] - 30s 80ms/step - loss: 0.1592 - accuracy: 0.9404 - val_loss: 0.2257 - val_accuracy: 0.9266\n",
      "Epoch 7/50\n",
      "377/377 [==============================] - 30s 79ms/step - loss: 0.1563 - accuracy: 0.9415 - val_loss: 0.2457 - val_accuracy: 0.9249\n",
      "Epoch 8/50\n",
      "377/377 [==============================] - 30s 79ms/step - loss: 0.1230 - accuracy: 0.9531 - val_loss: 0.2574 - val_accuracy: 0.9226\n",
      "Epoch 9/50\n",
      "377/377 [==============================] - 30s 79ms/step - loss: 0.1442 - accuracy: 0.9488 - val_loss: 0.2269 - val_accuracy: 0.9319\n",
      "Epoch 10/50\n",
      "377/377 [==============================] - 30s 80ms/step - loss: 0.1444 - accuracy: 0.9470 - val_loss: 0.3072 - val_accuracy: 0.9233\n",
      "Epoch 11/50\n",
      "377/377 [==============================] - 31s 82ms/step - loss: 0.1181 - accuracy: 0.9556 - val_loss: 0.2361 - val_accuracy: 0.9379\n",
      "Epoch 12/50\n",
      "377/377 [==============================] - 30s 80ms/step - loss: 0.1229 - accuracy: 0.9557 - val_loss: 0.4475 - val_accuracy: 0.9143\n",
      "Epoch 13/50\n",
      "377/377 [==============================] - 30s 80ms/step - loss: 0.1147 - accuracy: 0.9582 - val_loss: 0.2496 - val_accuracy: 0.9425\n",
      "Epoch 14/50\n",
      "377/377 [==============================] - 30s 79ms/step - loss: 0.1015 - accuracy: 0.9632 - val_loss: 0.2684 - val_accuracy: 0.9243\n",
      "Epoch 15/50\n",
      "376/377 [============================>.] - ETA: 0s - loss: 0.1178 - accuracy: 0.9585Restoring model weights from the end of the best epoch: 5.\n",
      "377/377 [==============================] - 30s 79ms/step - loss: 0.1177 - accuracy: 0.9586 - val_loss: 0.2911 - val_accuracy: 0.9319\n",
      "Epoch 15: early stopping\n",
      "Score for fold 2: loss of 0.22029206156730652; accuracy of 92.06243753433228%\n",
      "[93.82265210151672, 92.06243753433228]\n",
      "[0.2260897308588028, 0.22029206156730652]\n",
      "Training fold 3...\n",
      "Epoch 1/50\n",
      "377/377 [==============================] - 35s 83ms/step - loss: 2.0094 - accuracy: 0.7687 - val_loss: 0.3532 - val_accuracy: 0.8645\n",
      "Epoch 2/50\n",
      "377/377 [==============================] - 30s 79ms/step - loss: 0.3412 - accuracy: 0.8710 - val_loss: 0.3043 - val_accuracy: 0.8871\n",
      "Epoch 3/50\n",
      "377/377 [==============================] - 30s 79ms/step - loss: 0.2757 - accuracy: 0.8924 - val_loss: 0.2660 - val_accuracy: 0.9070\n",
      "Epoch 4/50\n",
      "377/377 [==============================] - 30s 80ms/step - loss: 0.2225 - accuracy: 0.9172 - val_loss: 0.2538 - val_accuracy: 0.9097\n",
      "Epoch 5/50\n",
      "377/377 [==============================] - 30s 81ms/step - loss: 0.1761 - accuracy: 0.9313 - val_loss: 0.2343 - val_accuracy: 0.9143\n",
      "Epoch 6/50\n",
      "377/377 [==============================] - 30s 80ms/step - loss: 0.1630 - accuracy: 0.9388 - val_loss: 0.2420 - val_accuracy: 0.9110\n",
      "Epoch 7/50\n",
      "377/377 [==============================] - 30s 80ms/step - loss: 0.1518 - accuracy: 0.9440 - val_loss: 0.2695 - val_accuracy: 0.9180\n",
      "Epoch 8/50\n",
      "377/377 [==============================] - 30s 80ms/step - loss: 0.1796 - accuracy: 0.9290 - val_loss: 0.2510 - val_accuracy: 0.9170\n",
      "Epoch 9/50\n",
      "377/377 [==============================] - 30s 80ms/step - loss: 0.1491 - accuracy: 0.9401 - val_loss: 0.2681 - val_accuracy: 0.9160\n",
      "Epoch 10/50\n",
      "377/377 [==============================] - 30s 80ms/step - loss: 0.1286 - accuracy: 0.9488 - val_loss: 0.2571 - val_accuracy: 0.9216\n",
      "Epoch 11/50\n",
      "377/377 [==============================] - 30s 79ms/step - loss: 0.1253 - accuracy: 0.9498 - val_loss: 0.2634 - val_accuracy: 0.9342\n",
      "Epoch 12/50\n",
      "377/377 [==============================] - 30s 79ms/step - loss: 0.1136 - accuracy: 0.9586 - val_loss: 0.2399 - val_accuracy: 0.9279\n",
      "Epoch 13/50\n",
      "377/377 [==============================] - 30s 79ms/step - loss: 0.1010 - accuracy: 0.9623 - val_loss: 0.2460 - val_accuracy: 0.9369\n",
      "Epoch 14/50\n",
      "377/377 [==============================] - 30s 79ms/step - loss: 0.1036 - accuracy: 0.9625 - val_loss: 0.2654 - val_accuracy: 0.9339\n",
      "Epoch 15/50\n",
      "376/377 [============================>.] - ETA: 0s - loss: 0.1025 - accuracy: 0.9601Restoring model weights from the end of the best epoch: 5.\n",
      "377/377 [==============================] - 30s 80ms/step - loss: 0.1028 - accuracy: 0.9601 - val_loss: 0.3241 - val_accuracy: 0.9303\n",
      "Epoch 15: early stopping\n",
      "Score for fold 3: loss of 0.23425929248332977; accuracy of 91.43142104148865%\n",
      "[93.82265210151672, 92.06243753433228, 91.43142104148865]\n",
      "[0.2260897308588028, 0.22029206156730652, 0.23425929248332977]\n",
      "Training fold 4...\n",
      "Epoch 1/50\n",
      "377/377 [==============================] - 35s 83ms/step - loss: 2.4265 - accuracy: 0.7476 - val_loss: 0.3439 - val_accuracy: 0.8725\n",
      "Epoch 2/50\n",
      "377/377 [==============================] - 30s 79ms/step - loss: 0.3753 - accuracy: 0.8570 - val_loss: 0.2827 - val_accuracy: 0.9030\n",
      "Epoch 3/50\n",
      "377/377 [==============================] - 30s 80ms/step - loss: 0.2779 - accuracy: 0.8967 - val_loss: 0.2472 - val_accuracy: 0.9166\n",
      "Epoch 4/50\n",
      "377/377 [==============================] - 30s 80ms/step - loss: 0.2298 - accuracy: 0.9132 - val_loss: 0.2266 - val_accuracy: 0.9223\n",
      "Epoch 5/50\n",
      "377/377 [==============================] - 30s 79ms/step - loss: 0.1930 - accuracy: 0.9258 - val_loss: 0.2696 - val_accuracy: 0.9136\n",
      "Epoch 6/50\n",
      "377/377 [==============================] - 30s 79ms/step - loss: 0.1685 - accuracy: 0.9348 - val_loss: 0.2532 - val_accuracy: 0.9243\n",
      "Epoch 7/50\n",
      "377/377 [==============================] - 30s 79ms/step - loss: 0.1507 - accuracy: 0.9420 - val_loss: 0.3732 - val_accuracy: 0.9004\n",
      "Epoch 8/50\n",
      "377/377 [==============================] - 30s 79ms/step - loss: 0.1596 - accuracy: 0.9383 - val_loss: 0.3275 - val_accuracy: 0.9140\n",
      "Epoch 9/50\n",
      "377/377 [==============================] - 30s 80ms/step - loss: 0.1719 - accuracy: 0.9350 - val_loss: 0.2101 - val_accuracy: 0.9336\n",
      "Epoch 10/50\n",
      "377/377 [==============================] - 30s 79ms/step - loss: 0.1338 - accuracy: 0.9487 - val_loss: 0.2509 - val_accuracy: 0.9336\n",
      "Epoch 11/50\n",
      "377/377 [==============================] - 30s 79ms/step - loss: 0.1395 - accuracy: 0.9485 - val_loss: 0.2268 - val_accuracy: 0.9409\n",
      "Epoch 12/50\n",
      "377/377 [==============================] - 30s 79ms/step - loss: 0.1129 - accuracy: 0.9564 - val_loss: 0.2171 - val_accuracy: 0.9429\n",
      "Epoch 13/50\n",
      "377/377 [==============================] - 30s 79ms/step - loss: 0.1002 - accuracy: 0.9644 - val_loss: 0.3032 - val_accuracy: 0.9259\n",
      "Epoch 14/50\n",
      "377/377 [==============================] - 30s 79ms/step - loss: 0.1089 - accuracy: 0.9587 - val_loss: 0.2949 - val_accuracy: 0.9309\n",
      "Epoch 15/50\n",
      "377/377 [==============================] - 30s 79ms/step - loss: 0.1096 - accuracy: 0.9581 - val_loss: 0.2297 - val_accuracy: 0.9396\n",
      "Epoch 16/50\n",
      "377/377 [==============================] - 30s 79ms/step - loss: 0.1144 - accuracy: 0.9574 - val_loss: 0.2651 - val_accuracy: 0.9369\n",
      "Epoch 17/50\n",
      "377/377 [==============================] - 30s 79ms/step - loss: 0.0928 - accuracy: 0.9639 - val_loss: 0.2756 - val_accuracy: 0.9412\n",
      "Epoch 18/50\n",
      "377/377 [==============================] - 30s 79ms/step - loss: 0.0798 - accuracy: 0.9698 - val_loss: 0.2417 - val_accuracy: 0.9432\n",
      "Epoch 19/50\n",
      "376/377 [============================>.] - ETA: 0s - loss: 0.0843 - accuracy: 0.9680Restoring model weights from the end of the best epoch: 9.\n",
      "377/377 [==============================] - 30s 80ms/step - loss: 0.0843 - accuracy: 0.9680 - val_loss: 0.4285 - val_accuracy: 0.9372\n",
      "Epoch 19: early stopping\n",
      "Score for fold 4: loss of 0.21014128625392914; accuracy of 93.35768818855286%\n",
      "[93.82265210151672, 92.06243753433228, 91.43142104148865, 93.35768818855286]\n",
      "[0.2260897308588028, 0.22029206156730652, 0.23425929248332977, 0.21014128625392914]\n",
      "Training fold 5...\n",
      "Epoch 1/50\n",
      "377/377 [==============================] - 36s 85ms/step - loss: 1.5132 - accuracy: 0.7576 - val_loss: 0.3706 - val_accuracy: 0.8545\n",
      "Epoch 2/50\n",
      "377/377 [==============================] - 30s 80ms/step - loss: 0.4071 - accuracy: 0.8401 - val_loss: 0.2880 - val_accuracy: 0.8864\n",
      "Epoch 3/50\n",
      "377/377 [==============================] - 30s 79ms/step - loss: 0.2695 - accuracy: 0.8960 - val_loss: 0.3521 - val_accuracy: 0.8658\n",
      "Epoch 4/50\n",
      "377/377 [==============================] - 30s 79ms/step - loss: 0.2458 - accuracy: 0.9057 - val_loss: 0.2544 - val_accuracy: 0.9000\n",
      "Epoch 5/50\n",
      "377/377 [==============================] - 30s 80ms/step - loss: 0.2089 - accuracy: 0.9240 - val_loss: 0.2520 - val_accuracy: 0.9206\n",
      "Epoch 6/50\n",
      "377/377 [==============================] - 30s 79ms/step - loss: 0.1763 - accuracy: 0.9343 - val_loss: 0.3046 - val_accuracy: 0.9096\n",
      "Epoch 7/50\n",
      "377/377 [==============================] - 30s 79ms/step - loss: 0.1476 - accuracy: 0.9438 - val_loss: 0.2650 - val_accuracy: 0.9199\n",
      "Epoch 8/50\n",
      "377/377 [==============================] - 30s 79ms/step - loss: 0.1493 - accuracy: 0.9417 - val_loss: 0.2057 - val_accuracy: 0.9342\n",
      "Epoch 9/50\n",
      "377/377 [==============================] - 30s 79ms/step - loss: 0.1300 - accuracy: 0.9550 - val_loss: 0.2815 - val_accuracy: 0.9123\n",
      "Epoch 10/50\n",
      "377/377 [==============================] - 30s 79ms/step - loss: 0.1508 - accuracy: 0.9437 - val_loss: 0.4360 - val_accuracy: 0.9030\n",
      "Epoch 11/50\n",
      "377/377 [==============================] - 30s 79ms/step - loss: 0.1417 - accuracy: 0.9521 - val_loss: 0.2523 - val_accuracy: 0.9296\n",
      "Epoch 12/50\n",
      "377/377 [==============================] - 30s 79ms/step - loss: 0.1253 - accuracy: 0.9558 - val_loss: 0.2475 - val_accuracy: 0.9342\n",
      "Epoch 13/50\n",
      "377/377 [==============================] - 30s 79ms/step - loss: 0.1113 - accuracy: 0.9588 - val_loss: 0.3002 - val_accuracy: 0.9339\n",
      "Epoch 14/50\n",
      "377/377 [==============================] - 30s 79ms/step - loss: 0.0993 - accuracy: 0.9647 - val_loss: 0.3379 - val_accuracy: 0.9206\n",
      "Epoch 15/50\n",
      "377/377 [==============================] - 30s 79ms/step - loss: 0.0978 - accuracy: 0.9633 - val_loss: 0.2946 - val_accuracy: 0.9342\n",
      "Epoch 16/50\n",
      "377/377 [==============================] - 30s 79ms/step - loss: 0.0954 - accuracy: 0.9654 - val_loss: 0.3100 - val_accuracy: 0.9296\n",
      "Epoch 17/50\n",
      "377/377 [==============================] - 30s 79ms/step - loss: 0.0812 - accuracy: 0.9698 - val_loss: 0.3031 - val_accuracy: 0.9309\n",
      "Epoch 18/50\n",
      "376/377 [============================>.] - ETA: 0s - loss: 0.0969 - accuracy: 0.9668Restoring model weights from the end of the best epoch: 8.\n",
      "377/377 [==============================] - 30s 79ms/step - loss: 0.0970 - accuracy: 0.9667 - val_loss: 0.2654 - val_accuracy: 0.9326\n",
      "Epoch 18: early stopping\n",
      "Score for fold 5: loss of 0.20574501156806946; accuracy of 93.4219241142273%\n",
      "[93.82265210151672, 92.06243753433228, 91.43142104148865, 93.35768818855286, 93.4219241142273]\n",
      "[0.2260897308588028, 0.22029206156730652, 0.23425929248332977, 0.21014128625392914, 0.20574501156806946]\n"
     ]
    }
   ],
   "source": [
    "for train_index, val_index in kf.split(x_temp):\n",
    "    x_train_fold, x_val_fold = x_temp[train_index], x_temp[val_index]\n",
    "    y_train_fold, y_val_fold = y_temp[train_index], y_temp[val_index]\n",
    "\n",
    "    resnetss01 = create_model()\n",
    "\n",
    "    print(f\"Training fold {fold_no}...\")\n",
    "    history01 = resnetss01.fit(\n",
    "        x_train_fold,\n",
    "        y_train_fold,\n",
    "        batch_size=32,\n",
    "        validation_data=(x_val_fold, y_val_fold),\n",
    "        epochs=50,\n",
    "        callbacks=earlystop,\n",
    "    )\n",
    "\n",
    "    scores = resnetss01.evaluate(x_val_fold, y_val_fold, verbose=0)\n",
    "    print(\n",
    "        f\"Score for fold {fold_no}: {resnetss01.metrics_names[0]} of {scores[0]}; {resnetss01.metrics_names[1]} of {scores[1]*100}%\"\n",
    "    )\n",
    "    acc_per_fold.append(scores[1] * 100)\n",
    "    loss_per_fold.append(scores[0])\n",
    "\n",
    "    fold_no += 1\n",
    "\n",
    "    print(acc_per_fold)\n",
    "    print(loss_per_fold)"
   ]
  },
  {
   "cell_type": "code",
   "execution_count": 13,
   "metadata": {},
   "outputs": [
    {
     "name": "stdout",
     "output_type": "stream",
     "text": [
      "Average scores for all folds:\n",
      "> Accuracy: 92.81922459602356\n",
      "> Loss: 0.21930547654628754\n",
      "Scores per fold:\n",
      "> Fold 1 - Loss: 0.2260897308588028 - Accuracy: 93.82265210151672%\n",
      "> Fold 2 - Loss: 0.22029206156730652 - Accuracy: 92.06243753433228%\n",
      "> Fold 3 - Loss: 0.23425929248332977 - Accuracy: 91.43142104148865%\n",
      "> Fold 4 - Loss: 0.21014128625392914 - Accuracy: 93.35768818855286%\n",
      "> Fold 5 - Loss: 0.20574501156806946 - Accuracy: 93.4219241142273%\n"
     ]
    }
   ],
   "source": [
    "# Print overall results\n",
    "print(\"Average scores for all folds:\")\n",
    "print(f\"> Accuracy: {np.average(acc_per_fold)}\")\n",
    "print(f\"> Loss: {np.average(loss_per_fold)}\")\n",
    "\n",
    "print(\"Scores per fold:\")\n",
    "for i in range(len(acc_per_fold)):\n",
    "    print(f\"> Fold {i+1} - Loss: {loss_per_fold[i]} - Accuracy: {acc_per_fold[i]}%\")"
   ]
  },
  {
   "cell_type": "code",
   "execution_count": 14,
   "metadata": {},
   "outputs": [],
   "source": [
    "import numpy as np\n",
    "\n",
    "\n",
    "def plot_training_curves(history):\n",
    "    loss = np.array(history.history[\"loss\"])\n",
    "    val_loss = np.array(history.history[\"val_loss\"])\n",
    "\n",
    "    accuracy = np.array(history.history[\"accuracy\"])\n",
    "    val_accuracy = np.array(history.history[\"val_accuracy\"])\n",
    "\n",
    "    epochs = range(len(history.history[\"loss\"]))\n",
    "\n",
    "    fig, (ax1, ax2) = plt.subplots(1, 2, figsize=(12, 6))\n",
    "\n",
    "    # plot loss\n",
    "    ax1.plot(epochs, loss, label=\"traing_loss\", marker=\"o\")\n",
    "\n",
    "    ax1.plot(epochs, val_loss, label=\"val_loss\", marker=\"o\")\n",
    "\n",
    "    ax1.fill_between(\n",
    "        epochs,\n",
    "        loss,\n",
    "        val_loss,\n",
    "        where=(loss > val_loss),\n",
    "        color=\"C0\",\n",
    "        alpha=0.3,\n",
    "        interpolate=True,\n",
    "    )\n",
    "    ax1.fill_between(\n",
    "        epochs,\n",
    "        loss,\n",
    "        val_loss,\n",
    "        where=(loss < val_loss),\n",
    "        color=\"C1\",\n",
    "        alpha=0.3,\n",
    "        interpolate=True,\n",
    "    )\n",
    "\n",
    "    ax1.set_title(\"Loss\", fontsize=16)\n",
    "    ax1.set_xlabel(\"Epochs\", fontsize=10)\n",
    "\n",
    "    ax1.legend()\n",
    "\n",
    "    # plot Accuracy\n",
    "    ax2.plot(epochs, accuracy, label=\"traing_accuracy\", marker=\"o\")\n",
    "\n",
    "    ax2.plot(epochs, val_accuracy, label=\"val_accuracy\", marker=\"o\")\n",
    "\n",
    "    ax2.fill_between(\n",
    "        epochs,\n",
    "        accuracy,\n",
    "        val_accuracy,\n",
    "        where=(accuracy > val_accuracy),\n",
    "        color=\"C0\",\n",
    "        alpha=0.3,\n",
    "        interpolate=True,\n",
    "    )\n",
    "    ax2.fill_between(\n",
    "        epochs,\n",
    "        accuracy,\n",
    "        val_accuracy,\n",
    "        where=(accuracy < val_accuracy),\n",
    "        color=\"C1\",\n",
    "        alpha=0.3,\n",
    "        interpolate=True,\n",
    "    )\n",
    "\n",
    "    ax2.set_title(\"Accuracy\", fontsize=16)\n",
    "    ax2.set_xlabel(\"Epochs\", fontsize=10)\n",
    "\n",
    "    ax2.legend()"
   ]
  },
  {
   "cell_type": "code",
   "execution_count": 15,
   "metadata": {},
   "outputs": [
    {
     "data": {
      "image/png": "[encoded data removed]",
      "text/plain": [
       "<Figure size 1200x600 with 2 Axes>"
      ]
     },
     "metadata": {},
     "output_type": "display_data"
    }
   ],
   "source": [
    "plot_training_curves(history01)"
   ]
  },
  {
   "cell_type": "code",
   "execution_count": 16,
   "metadata": {},
   "outputs": [
    {
     "ename": "InternalError",
     "evalue": "Failed copying input tensor from /job:localhost/replica:0/task:0/device:CPU:0 to /job:localhost/replica:0/task:0/device:GPU:0 in order to run _EagerConst: Dst tensor is not initialized.",
     "output_type": "error",
     "traceback": [
      "\u001b[1;31m---------------------------------------------------------------------------\u001b[0m",
      "\u001b[1;31mInternalError\u001b[0m                             Traceback (most recent call last)",
      "Cell \u001b[1;32mIn[16], line 1\u001b[0m\n\u001b[1;32m----> 1\u001b[0m test_loss, test_acc \u001b[38;5;241m=\u001b[39m \u001b[43mresnetss01\u001b[49m\u001b[38;5;241;43m.\u001b[39;49m\u001b[43mevaluate\u001b[49m\u001b[43m(\u001b[49m\u001b[43mx_data\u001b[49m\u001b[43m,\u001b[49m\u001b[43m \u001b[49m\u001b[43my_data\u001b[49m\u001b[43m)\u001b[49m\n\u001b[0;32m      2\u001b[0m \u001b[38;5;28mprint\u001b[39m(\u001b[38;5;124mf\u001b[39m\u001b[38;5;124m\"\u001b[39m\u001b[38;5;124mTest accuracy: \u001b[39m\u001b[38;5;132;01m{\u001b[39;00mtest_acc\u001b[38;5;132;01m}\u001b[39;00m\u001b[38;5;124m\"\u001b[39m)\n\u001b[0;32m      3\u001b[0m \u001b[38;5;28mprint\u001b[39m(\u001b[38;5;124mf\u001b[39m\u001b[38;5;124m\"\u001b[39m\u001b[38;5;124mTest loss: \u001b[39m\u001b[38;5;132;01m{\u001b[39;00mtest_loss\u001b[38;5;132;01m}\u001b[39;00m\u001b[38;5;124m\"\u001b[39m)\n",
      "File \u001b[1;32mc:\\Anaconda\\envs\\tgpu\\lib\\site-packages\\keras\\utils\\traceback_utils.py:70\u001b[0m, in \u001b[0;36mfilter_traceback.<locals>.error_handler\u001b[1;34m(*args, **kwargs)\u001b[0m\n\u001b[0;32m     67\u001b[0m     filtered_tb \u001b[38;5;241m=\u001b[39m _process_traceback_frames(e\u001b[38;5;241m.\u001b[39m__traceback__)\n\u001b[0;32m     68\u001b[0m     \u001b[38;5;66;03m# To get the full stack trace, call:\u001b[39;00m\n\u001b[0;32m     69\u001b[0m     \u001b[38;5;66;03m# `tf.debugging.disable_traceback_filtering()`\u001b[39;00m\n\u001b[1;32m---> 70\u001b[0m     \u001b[38;5;28;01mraise\u001b[39;00m e\u001b[38;5;241m.\u001b[39mwith_traceback(filtered_tb) \u001b[38;5;28;01mfrom\u001b[39;00m \u001b[38;5;28;01mNone\u001b[39;00m\n\u001b[0;32m     71\u001b[0m \u001b[38;5;28;01mfinally\u001b[39;00m:\n\u001b[0;32m     72\u001b[0m     \u001b[38;5;28;01mdel\u001b[39;00m filtered_tb\n",
      "File \u001b[1;32mc:\\Anaconda\\envs\\tgpu\\lib\\site-packages\\tensorflow\\python\\framework\\constant_op.py:102\u001b[0m, in \u001b[0;36mconvert_to_eager_tensor\u001b[1;34m(value, ctx, dtype)\u001b[0m\n\u001b[0;32m    100\u001b[0m     dtype \u001b[38;5;241m=\u001b[39m dtypes\u001b[38;5;241m.\u001b[39mas_dtype(dtype)\u001b[38;5;241m.\u001b[39mas_datatype_enum\n\u001b[0;32m    101\u001b[0m ctx\u001b[38;5;241m.\u001b[39mensure_initialized()\n\u001b[1;32m--> 102\u001b[0m \u001b[38;5;28;01mreturn\u001b[39;00m \u001b[43mops\u001b[49m\u001b[38;5;241;43m.\u001b[39;49m\u001b[43mEagerTensor\u001b[49m\u001b[43m(\u001b[49m\u001b[43mvalue\u001b[49m\u001b[43m,\u001b[49m\u001b[43m \u001b[49m\u001b[43mctx\u001b[49m\u001b[38;5;241;43m.\u001b[39;49m\u001b[43mdevice_name\u001b[49m\u001b[43m,\u001b[49m\u001b[43m \u001b[49m\u001b[43mdtype\u001b[49m\u001b[43m)\u001b[49m\n",
      "\u001b[1;31mInternalError\u001b[0m: Failed copying input tensor from /job:localhost/replica:0/task:0/device:CPU:0 to /job:localhost/replica:0/task:0/device:GPU:0 in order to run _EagerConst: Dst tensor is not initialized."
     ]
    }
   ],
   "source": [
    "test_loss, test_acc = resnetss01.evaluate(x_data, y_data)\n",
    "print(f\"Test accuracy: {test_acc}\")\n",
    "print(f\"Test loss: {test_loss}\")"
   ]
  },
  {
   "cell_type": "code",
   "execution_count": 17,
   "metadata": {},
   "outputs": [
    {
     "name": "stdout",
     "output_type": "stream",
     "text": [
      "118/118 [==============================] - 8s 59ms/step\n"
     ]
    }
   ],
   "source": [
    "y_pred_probs = resnetss01.predict(x_test)\n",
    "y_pred = np.argmax(y_pred_probs, axis=1)\n",
    "y_true = np.argmax(y_test, axis=1)"
   ]
  },
  {
   "cell_type": "code",
   "execution_count": 18,
   "metadata": {},
   "outputs": [],
   "source": [
    "accuracy = accuracy_score(y_true, y_pred)\n",
    "\n",
    "precision = precision_score(y_true, y_pred, average=\"weighted\")\n",
    "\n",
    "recall = recall_score(y_true, y_pred, average=\"weighted\")\n",
    "\n",
    "f1 = f1_score(y_true, y_pred, average=\"weighted\")"
   ]
  },
  {
   "cell_type": "code",
   "execution_count": 19,
   "metadata": {},
   "outputs": [
    {
     "name": "stdout",
     "output_type": "stream",
     "text": [
      "Confusion Matrix:\n",
      "[[844  58  14   2]\n",
      " [ 83 826  14  38]\n",
      " [  6  12 974   4]\n",
      " [  7  50   4 828]]\n",
      "Accuracy: 0.922422954303932\n",
      "Precision: 0.9223709759251904\n",
      "Recall: 0.922422954303932\n",
      "F1 Score: 0.9223250864163745\n"
     ]
    }
   ],
   "source": [
    "print(f\"Accuracy: {accuracy}\")\n",
    "\n",
    "print(f\"Precision: {precision}\")\n",
    "\n",
    "print(f\"Recall: {recall}\")\n",
    "\n",
    "print(f\"F1 Score: {f1}\")"
   ]
  },
  {
   "cell_type": "code",
   "execution_count": 20,
   "metadata": {},
   "outputs": [
    {
     "data": {
      "image/png": "[encoded data removed]",
      "text/plain": [
       "<Figure size 1000x800 with 2 Axes>"
      ]
     },
     "metadata": {},
     "output_type": "display_data"
    }
   ],
   "source": [
    "plt.figure(figsize=(10, 8))\n",
    "\n",
    "\n",
    "sns.heatmap(\n",
    "    conf_matrix,\n",
    "    annot=True,\n",
    "    fmt=\"d\",\n",
    "    cmap=\"Blues\",\n",
    "    xticklabels=lb.classes_,\n",
    "    yticklabels=lb.classes_,\n",
    ")\n",
    "\n",
    "\n",
    "plt.xlabel(\"Predicted\")\n",
    "\n",
    "\n",
    "plt.ylabel(\"Actual\")\n",
    "\n",
    "\n",
    "plt.title(\"Confusion Matrix\")\n",
    "\n",
    "\n",
    "plt.show()"
   ]
  },
  {
   "cell_type": "code",
   "execution_count": 21,
   "metadata": {},
   "outputs": [
    {
     "name": "stdout",
     "output_type": "stream",
     "text": [
      "Model saved to Models\\ResNet50_AUG_K_Fold_01(150x150).h5\n"
     ]
    }
   ],
   "source": [
    "model_directory = \"Models\"\n",
    "if not os.path.exists(model_directory):\n",
    "    os.makedirs(model_directory)\n",
    "model_path = os.path.join(model_directory, \"ResNet50_AUG_K_Fold_01(150x150).h5\")\n",
    "resnetss01.save(model_path)\n",
    "print(f\"Model saved to {model_path}\")"
   ]
  },
  {
   "cell_type": "code",
   "execution_count": 9,
   "metadata": {},
   "outputs": [],
   "source": [
    "def create_model():\n",
    "    model = Sequential()\n",
    "    model.add(Input(shape=shape))\n",
    "\n",
    "    base_model = resnet.ResNet50(\n",
    "        include_top=False, input_shape=shape, weights=\"imagenet\"\n",
    "    )\n",
    "\n",
    "    model.add(base_model)\n",
    "    model.add(Flatten())\n",
    "    model.add(Dense(512, activation=\"relu\"))\n",
    "    model.add(Dropout(0.3))\n",
    "    model.add(Dense(4, activation=\"softmax\"))\n",
    "\n",
    "    model.compile(\n",
    "        optimizer=\"adam\", loss=\"categorical_crossentropy\", metrics=[\"accuracy\"]\n",
    "    )\n",
    "    # model.summary()\n",
    "    return model"
   ]
  },
  {
   "cell_type": "code",
   "execution_count": 10,
   "metadata": {},
   "outputs": [
    {
     "name": "stdout",
     "output_type": "stream",
     "text": [
      "Model: \"sequential\"\n",
      "_________________________________________________________________\n",
      " Layer (type)                Output Shape              Param #   \n",
      "=================================================================\n",
      " resnet50 (Functional)       (None, 5, 5, 2048)        23587712  \n",
      "                                                                 \n",
      " flatten (Flatten)           (None, 51200)             0         \n",
      "                                                                 \n",
      " dense (Dense)               (None, 512)               26214912  \n",
      "                                                                 \n",
      " dropout (Dropout)           (None, 512)               0         \n",
      "                                                                 \n",
      " dense_1 (Dense)             (None, 4)                 2052      \n",
      "                                                                 \n",
      "=================================================================\n",
      "Total params: 49,804,676\n",
      "Trainable params: 49,751,556\n",
      "Non-trainable params: 53,120\n",
      "_________________________________________________________________\n"
     ]
    }
   ],
   "source": [
    "model = create_model()\n",
    "model.summary()"
   ]
  },
  {
   "cell_type": "code",
   "execution_count": 11,
   "metadata": {},
   "outputs": [],
   "source": [
    "from tensorflow.keras.callbacks import EarlyStopping\n",
    "\n",
    "earlystop = EarlyStopping(\n",
    "    monitor=\"val_loss\", min_delta=0, patience=10, verbose=1, restore_best_weights=True\n",
    ")"
   ]
  },
  {
   "cell_type": "code",
   "execution_count": 12,
   "metadata": {},
   "outputs": [
    {
     "name": "stdout",
     "output_type": "stream",
     "text": [
      "Training fold 1...\n",
      "Epoch 1/50\n",
      "377/377 [==============================] - 113s 252ms/step - loss: 1.0263 - accuracy: 0.8072 - val_loss: 1.5404 - val_accuracy: 0.6157\n",
      "Epoch 2/50\n",
      "377/377 [==============================] - 92s 244ms/step - loss: 0.3298 - accuracy: 0.9025 - val_loss: 4.0599 - val_accuracy: 0.5530\n",
      "Epoch 3/50\n",
      "377/377 [==============================] - 94s 250ms/step - loss: 0.2821 - accuracy: 0.9159 - val_loss: 1.6412 - val_accuracy: 0.5334\n",
      "Epoch 4/50\n",
      "377/377 [==============================] - 92s 244ms/step - loss: 0.2135 - accuracy: 0.9325 - val_loss: 2.5169 - val_accuracy: 0.6579\n",
      "Epoch 5/50\n",
      "377/377 [==============================] - 84s 223ms/step - loss: 0.1645 - accuracy: 0.9484 - val_loss: 8.8860 - val_accuracy: 0.3278\n",
      "Epoch 6/50\n",
      "377/377 [==============================] - 90s 240ms/step - loss: 0.1424 - accuracy: 0.9552 - val_loss: 2.1478 - val_accuracy: 0.6137\n",
      "Epoch 7/50\n",
      "377/377 [==============================] - 92s 245ms/step - loss: 0.2122 - accuracy: 0.9390 - val_loss: 0.2960 - val_accuracy: 0.9173\n",
      "Epoch 8/50\n",
      "377/377 [==============================] - 92s 243ms/step - loss: 0.1008 - accuracy: 0.9689 - val_loss: 0.5549 - val_accuracy: 0.8788\n",
      "Epoch 9/50\n",
      "377/377 [==============================] - 93s 248ms/step - loss: 0.1770 - accuracy: 0.9518 - val_loss: 18.0111 - val_accuracy: 0.4055\n",
      "Epoch 10/50\n",
      "377/377 [==============================] - 91s 240ms/step - loss: 0.1830 - accuracy: 0.9425 - val_loss: 1.4566 - val_accuracy: 0.6938\n",
      "Epoch 11/50\n",
      "377/377 [==============================] - 89s 236ms/step - loss: 0.1035 - accuracy: 0.9670 - val_loss: 0.6679 - val_accuracy: 0.8638\n",
      "Epoch 12/50\n",
      "377/377 [==============================] - 86s 227ms/step - loss: 0.0649 - accuracy: 0.9800 - val_loss: 6.1798 - val_accuracy: 0.6317\n",
      "Epoch 13/50\n",
      "377/377 [==============================] - 92s 244ms/step - loss: 0.0859 - accuracy: 0.9731 - val_loss: 0.5469 - val_accuracy: 0.8781\n",
      "Epoch 14/50\n",
      "377/377 [==============================] - 94s 250ms/step - loss: 0.0861 - accuracy: 0.9749 - val_loss: 0.4866 - val_accuracy: 0.8758\n",
      "Epoch 15/50\n",
      "377/377 [==============================] - 94s 250ms/step - loss: 0.0946 - accuracy: 0.9726 - val_loss: 5.5512 - val_accuracy: 0.4042\n",
      "Epoch 16/50\n",
      "377/377 [==============================] - 90s 240ms/step - loss: 0.1071 - accuracy: 0.9684 - val_loss: 1.4579 - val_accuracy: 0.7167\n",
      "Epoch 17/50\n",
      "377/377 [==============================] - ETA: 0s - loss: 0.1313 - accuracy: 0.9638Restoring model weights from the end of the best epoch: 7.\n",
      "377/377 [==============================] - 93s 247ms/step - loss: 0.1313 - accuracy: 0.9638 - val_loss: 1.4287 - val_accuracy: 0.7224\n",
      "Epoch 17: early stopping\n",
      "Score for fold 1: loss of 0.2959940731525421; accuracy of 91.7303204536438%\n",
      "[91.7303204536438]\n",
      "[0.2959940731525421]\n",
      "Training fold 2...\n",
      "Epoch 1/50\n"
     ]
    },
    {
     "ename": "ResourceExhaustedError",
     "evalue": "Graph execution error:\n\nDetected at node 'sequential_2/resnet50/conv3_block1_0_conv/Conv2D' defined at (most recent call last):\n    File \"c:\\Anaconda\\envs\\tgpu\\lib\\runpy.py\", line 196, in _run_module_as_main\n      return _run_code(code, main_globals, None,\n    File \"c:\\Anaconda\\envs\\tgpu\\lib\\runpy.py\", line 86, in _run_code\n      exec(code, run_globals)\n    File \"c:\\Anaconda\\envs\\tgpu\\lib\\site-packages\\ipykernel_launcher.py\", line 18, in <module>\n      app.launch_new_instance()\n    File \"c:\\Anaconda\\envs\\tgpu\\lib\\site-packages\\traitlets\\config\\application.py\", line 1075, in launch_instance\n      app.start()\n    File \"c:\\Anaconda\\envs\\tgpu\\lib\\site-packages\\ipykernel\\kernelapp.py\", line 739, in start\n      self.io_loop.start()\n    File \"c:\\Anaconda\\envs\\tgpu\\lib\\site-packages\\tornado\\platform\\asyncio.py\", line 205, in start\n      self.asyncio_loop.run_forever()\n    File \"c:\\Anaconda\\envs\\tgpu\\lib\\asyncio\\base_events.py\", line 603, in run_forever\n      self._run_once()\n    File \"c:\\Anaconda\\envs\\tgpu\\lib\\asyncio\\base_events.py\", line 1909, in _run_once\n      handle._run()\n    File \"c:\\Anaconda\\envs\\tgpu\\lib\\asyncio\\events.py\", line 80, in _run\n      self._context.run(self._callback, *self._args)\n    File \"c:\\Anaconda\\envs\\tgpu\\lib\\site-packages\\ipykernel\\kernelbase.py\", line 545, in dispatch_queue\n      await self.process_one()\n    File \"c:\\Anaconda\\envs\\tgpu\\lib\\site-packages\\ipykernel\\kernelbase.py\", line 534, in process_one\n      await dispatch(*args)\n    File \"c:\\Anaconda\\envs\\tgpu\\lib\\site-packages\\ipykernel\\kernelbase.py\", line 437, in dispatch_shell\n      await result\n    File \"c:\\Anaconda\\envs\\tgpu\\lib\\site-packages\\ipykernel\\ipkernel.py\", line 359, in execute_request\n      await super().execute_request(stream, ident, parent)\n    File \"c:\\Anaconda\\envs\\tgpu\\lib\\site-packages\\ipykernel\\kernelbase.py\", line 778, in execute_request\n      reply_content = await reply_content\n    File \"c:\\Anaconda\\envs\\tgpu\\lib\\site-packages\\ipykernel\\ipkernel.py\", line 446, in do_execute\n      res = shell.run_cell(\n    File \"c:\\Anaconda\\envs\\tgpu\\lib\\site-packages\\ipykernel\\zmqshell.py\", line 549, in run_cell\n      return super().run_cell(*args, **kwargs)\n    File \"c:\\Anaconda\\envs\\tgpu\\lib\\site-packages\\IPython\\core\\interactiveshell.py\", line 3075, in run_cell\n      result = self._run_cell(\n    File \"c:\\Anaconda\\envs\\tgpu\\lib\\site-packages\\IPython\\core\\interactiveshell.py\", line 3130, in _run_cell\n      result = runner(coro)\n    File \"c:\\Anaconda\\envs\\tgpu\\lib\\site-packages\\IPython\\core\\async_helpers.py\", line 129, in _pseudo_sync_runner\n      coro.send(None)\n    File \"c:\\Anaconda\\envs\\tgpu\\lib\\site-packages\\IPython\\core\\interactiveshell.py\", line 3334, in run_cell_async\n      has_raised = await self.run_ast_nodes(code_ast.body, cell_name,\n    File \"c:\\Anaconda\\envs\\tgpu\\lib\\site-packages\\IPython\\core\\interactiveshell.py\", line 3517, in run_ast_nodes\n      if await self.run_code(code, result, async_=asy):\n    File \"c:\\Anaconda\\envs\\tgpu\\lib\\site-packages\\IPython\\core\\interactiveshell.py\", line 3577, in run_code\n      exec(code_obj, self.user_global_ns, self.user_ns)\n    File \"C:\\Users\\Ziad Thabet\\AppData\\Local\\Temp\\ipykernel_6380\\1256382896.py\", line 8, in <module>\n      history01 = resnetss01.fit(\n    File \"c:\\Anaconda\\envs\\tgpu\\lib\\site-packages\\keras\\utils\\traceback_utils.py\", line 65, in error_handler\n      return fn(*args, **kwargs)\n    File \"c:\\Anaconda\\envs\\tgpu\\lib\\site-packages\\keras\\engine\\training.py\", line 1564, in fit\n      tmp_logs = self.train_function(iterator)\n    File \"c:\\Anaconda\\envs\\tgpu\\lib\\site-packages\\keras\\engine\\training.py\", line 1160, in train_function\n      return step_function(self, iterator)\n    File \"c:\\Anaconda\\envs\\tgpu\\lib\\site-packages\\keras\\engine\\training.py\", line 1146, in step_function\n      outputs = model.distribute_strategy.run(run_step, args=(data,))\n    File \"c:\\Anaconda\\envs\\tgpu\\lib\\site-packages\\keras\\engine\\training.py\", line 1135, in run_step\n      outputs = model.train_step(data)\n    File \"c:\\Anaconda\\envs\\tgpu\\lib\\site-packages\\keras\\engine\\training.py\", line 993, in train_step\n      y_pred = self(x, training=True)\n    File \"c:\\Anaconda\\envs\\tgpu\\lib\\site-packages\\keras\\utils\\traceback_utils.py\", line 65, in error_handler\n      return fn(*args, **kwargs)\n    File \"c:\\Anaconda\\envs\\tgpu\\lib\\site-packages\\keras\\engine\\training.py\", line 557, in __call__\n      return super().__call__(*args, **kwargs)\n    File \"c:\\Anaconda\\envs\\tgpu\\lib\\site-packages\\keras\\utils\\traceback_utils.py\", line 65, in error_handler\n      return fn(*args, **kwargs)\n    File \"c:\\Anaconda\\envs\\tgpu\\lib\\site-packages\\keras\\engine\\base_layer.py\", line 1097, in __call__\n      outputs = call_fn(inputs, *args, **kwargs)\n    File \"c:\\Anaconda\\envs\\tgpu\\lib\\site-packages\\keras\\utils\\traceback_utils.py\", line 96, in error_handler\n      return fn(*args, **kwargs)\n    File \"c:\\Anaconda\\envs\\tgpu\\lib\\site-packages\\keras\\engine\\sequential.py\", line 410, in call\n      return super().call(inputs, training=training, mask=mask)\n    File \"c:\\Anaconda\\envs\\tgpu\\lib\\site-packages\\keras\\engine\\functional.py\", line 510, in call\n      return self._run_internal_graph(inputs, training=training, mask=mask)\n    File \"c:\\Anaconda\\envs\\tgpu\\lib\\site-packages\\keras\\engine\\functional.py\", line 667, in _run_internal_graph\n      outputs = node.layer(*args, **kwargs)\n    File \"c:\\Anaconda\\envs\\tgpu\\lib\\site-packages\\keras\\utils\\traceback_utils.py\", line 65, in error_handler\n      return fn(*args, **kwargs)\n    File \"c:\\Anaconda\\envs\\tgpu\\lib\\site-packages\\keras\\engine\\training.py\", line 557, in __call__\n      return super().__call__(*args, **kwargs)\n    File \"c:\\Anaconda\\envs\\tgpu\\lib\\site-packages\\keras\\utils\\traceback_utils.py\", line 65, in error_handler\n      return fn(*args, **kwargs)\n    File \"c:\\Anaconda\\envs\\tgpu\\lib\\site-packages\\keras\\engine\\base_layer.py\", line 1097, in __call__\n      outputs = call_fn(inputs, *args, **kwargs)\n    File \"c:\\Anaconda\\envs\\tgpu\\lib\\site-packages\\keras\\utils\\traceback_utils.py\", line 96, in error_handler\n      return fn(*args, **kwargs)\n    File \"c:\\Anaconda\\envs\\tgpu\\lib\\site-packages\\keras\\engine\\functional.py\", line 510, in call\n      return self._run_internal_graph(inputs, training=training, mask=mask)\n    File \"c:\\Anaconda\\envs\\tgpu\\lib\\site-packages\\keras\\engine\\functional.py\", line 667, in _run_internal_graph\n      outputs = node.layer(*args, **kwargs)\n    File \"c:\\Anaconda\\envs\\tgpu\\lib\\site-packages\\keras\\utils\\traceback_utils.py\", line 65, in error_handler\n      return fn(*args, **kwargs)\n    File \"c:\\Anaconda\\envs\\tgpu\\lib\\site-packages\\keras\\engine\\base_layer.py\", line 1097, in __call__\n      outputs = call_fn(inputs, *args, **kwargs)\n    File \"c:\\Anaconda\\envs\\tgpu\\lib\\site-packages\\keras\\utils\\traceback_utils.py\", line 96, in error_handler\n      return fn(*args, **kwargs)\n    File \"c:\\Anaconda\\envs\\tgpu\\lib\\site-packages\\keras\\layers\\convolutional\\base_conv.py\", line 283, in call\n      outputs = self.convolution_op(inputs, self.kernel)\n    File \"c:\\Anaconda\\envs\\tgpu\\lib\\site-packages\\keras\\layers\\convolutional\\base_conv.py\", line 255, in convolution_op\n      return tf.nn.convolution(\nNode: 'sequential_2/resnet50/conv3_block1_0_conv/Conv2D'\nOOM when allocating tensor with shape[32,512,19,19] and type float on /job:localhost/replica:0/task:0/device:GPU:0 by allocator GPU_0_bfc\n\t [[{{node sequential_2/resnet50/conv3_block1_0_conv/Conv2D}}]]\nHint: If you want to see a list of allocated tensors when OOM happens, add report_tensor_allocations_upon_oom to RunOptions for current allocation info. This isn't available when running in Eager mode.\n [Op:__inference_train_function_70864]",
     "output_type": "error",
     "traceback": [
      "\u001b[1;31m---------------------------------------------------------------------------\u001b[0m",
      "\u001b[1;31mResourceExhaustedError\u001b[0m                    Traceback (most recent call last)",
      "Cell \u001b[1;32mIn[12], line 8\u001b[0m\n\u001b[0;32m      5\u001b[0m resnetss01 \u001b[38;5;241m=\u001b[39m create_model()\n\u001b[0;32m      7\u001b[0m \u001b[38;5;28mprint\u001b[39m(\u001b[38;5;124mf\u001b[39m\u001b[38;5;124m\"\u001b[39m\u001b[38;5;124mTraining fold \u001b[39m\u001b[38;5;132;01m{\u001b[39;00mfold_no\u001b[38;5;132;01m}\u001b[39;00m\u001b[38;5;124m...\u001b[39m\u001b[38;5;124m\"\u001b[39m)\n\u001b[1;32m----> 8\u001b[0m history01 \u001b[38;5;241m=\u001b[39m \u001b[43mresnetss01\u001b[49m\u001b[38;5;241;43m.\u001b[39;49m\u001b[43mfit\u001b[49m\u001b[43m(\u001b[49m\n\u001b[0;32m      9\u001b[0m \u001b[43m    \u001b[49m\u001b[43mx_train_fold\u001b[49m\u001b[43m,\u001b[49m\n\u001b[0;32m     10\u001b[0m \u001b[43m    \u001b[49m\u001b[43my_train_fold\u001b[49m\u001b[43m,\u001b[49m\n\u001b[0;32m     11\u001b[0m \u001b[43m    \u001b[49m\u001b[43mbatch_size\u001b[49m\u001b[38;5;241;43m=\u001b[39;49m\u001b[38;5;241;43m32\u001b[39;49m\u001b[43m,\u001b[49m\n\u001b[0;32m     12\u001b[0m \u001b[43m    \u001b[49m\u001b[43mvalidation_data\u001b[49m\u001b[38;5;241;43m=\u001b[39;49m\u001b[43m(\u001b[49m\u001b[43mx_val_fold\u001b[49m\u001b[43m,\u001b[49m\u001b[43m \u001b[49m\u001b[43my_val_fold\u001b[49m\u001b[43m)\u001b[49m\u001b[43m,\u001b[49m\n\u001b[0;32m     13\u001b[0m \u001b[43m    \u001b[49m\u001b[43mepochs\u001b[49m\u001b[38;5;241;43m=\u001b[39;49m\u001b[38;5;241;43m50\u001b[39;49m\u001b[43m,\u001b[49m\n\u001b[0;32m     14\u001b[0m \u001b[43m    \u001b[49m\u001b[43mcallbacks\u001b[49m\u001b[38;5;241;43m=\u001b[39;49m\u001b[43mearlystop\u001b[49m\u001b[43m,\u001b[49m\n\u001b[0;32m     15\u001b[0m \u001b[43m\u001b[49m\u001b[43m)\u001b[49m\n\u001b[0;32m     17\u001b[0m scores \u001b[38;5;241m=\u001b[39m resnetss01\u001b[38;5;241m.\u001b[39mevaluate(x_val_fold, y_val_fold, verbose\u001b[38;5;241m=\u001b[39m\u001b[38;5;241m0\u001b[39m)\n\u001b[0;32m     18\u001b[0m \u001b[38;5;28mprint\u001b[39m(\n\u001b[0;32m     19\u001b[0m     \u001b[38;5;124mf\u001b[39m\u001b[38;5;124m\"\u001b[39m\u001b[38;5;124mScore for fold \u001b[39m\u001b[38;5;132;01m{\u001b[39;00mfold_no\u001b[38;5;132;01m}\u001b[39;00m\u001b[38;5;124m: \u001b[39m\u001b[38;5;132;01m{\u001b[39;00mresnetss01\u001b[38;5;241m.\u001b[39mmetrics_names[\u001b[38;5;241m0\u001b[39m]\u001b[38;5;132;01m}\u001b[39;00m\u001b[38;5;124m of \u001b[39m\u001b[38;5;132;01m{\u001b[39;00mscores[\u001b[38;5;241m0\u001b[39m]\u001b[38;5;132;01m}\u001b[39;00m\u001b[38;5;124m; \u001b[39m\u001b[38;5;132;01m{\u001b[39;00mresnetss01\u001b[38;5;241m.\u001b[39mmetrics_names[\u001b[38;5;241m1\u001b[39m]\u001b[38;5;132;01m}\u001b[39;00m\u001b[38;5;124m of \u001b[39m\u001b[38;5;132;01m{\u001b[39;00mscores[\u001b[38;5;241m1\u001b[39m]\u001b[38;5;241m*\u001b[39m\u001b[38;5;241m100\u001b[39m\u001b[38;5;132;01m}\u001b[39;00m\u001b[38;5;124m%\u001b[39m\u001b[38;5;124m\"\u001b[39m\n\u001b[0;32m     20\u001b[0m )\n",
      "File \u001b[1;32mc:\\Anaconda\\envs\\tgpu\\lib\\site-packages\\keras\\utils\\traceback_utils.py:70\u001b[0m, in \u001b[0;36mfilter_traceback.<locals>.error_handler\u001b[1;34m(*args, **kwargs)\u001b[0m\n\u001b[0;32m     67\u001b[0m     filtered_tb \u001b[38;5;241m=\u001b[39m _process_traceback_frames(e\u001b[38;5;241m.\u001b[39m__traceback__)\n\u001b[0;32m     68\u001b[0m     \u001b[38;5;66;03m# To get the full stack trace, call:\u001b[39;00m\n\u001b[0;32m     69\u001b[0m     \u001b[38;5;66;03m# `tf.debugging.disable_traceback_filtering()`\u001b[39;00m\n\u001b[1;32m---> 70\u001b[0m     \u001b[38;5;28;01mraise\u001b[39;00m e\u001b[38;5;241m.\u001b[39mwith_traceback(filtered_tb) \u001b[38;5;28;01mfrom\u001b[39;00m \u001b[38;5;28;01mNone\u001b[39;00m\n\u001b[0;32m     71\u001b[0m \u001b[38;5;28;01mfinally\u001b[39;00m:\n\u001b[0;32m     72\u001b[0m     \u001b[38;5;28;01mdel\u001b[39;00m filtered_tb\n",
      "File \u001b[1;32mc:\\Anaconda\\envs\\tgpu\\lib\\site-packages\\tensorflow\\python\\eager\\execute.py:54\u001b[0m, in \u001b[0;36mquick_execute\u001b[1;34m(op_name, num_outputs, inputs, attrs, ctx, name)\u001b[0m\n\u001b[0;32m     52\u001b[0m \u001b[38;5;28;01mtry\u001b[39;00m:\n\u001b[0;32m     53\u001b[0m   ctx\u001b[38;5;241m.\u001b[39mensure_initialized()\n\u001b[1;32m---> 54\u001b[0m   tensors \u001b[38;5;241m=\u001b[39m pywrap_tfe\u001b[38;5;241m.\u001b[39mTFE_Py_Execute(ctx\u001b[38;5;241m.\u001b[39m_handle, device_name, op_name,\n\u001b[0;32m     55\u001b[0m                                       inputs, attrs, num_outputs)\n\u001b[0;32m     56\u001b[0m \u001b[38;5;28;01mexcept\u001b[39;00m core\u001b[38;5;241m.\u001b[39m_NotOkStatusException \u001b[38;5;28;01mas\u001b[39;00m e:\n\u001b[0;32m     57\u001b[0m   \u001b[38;5;28;01mif\u001b[39;00m name \u001b[38;5;129;01mis\u001b[39;00m \u001b[38;5;129;01mnot\u001b[39;00m \u001b[38;5;28;01mNone\u001b[39;00m:\n",
      "\u001b[1;31mResourceExhaustedError\u001b[0m: Graph execution error:\n\nDetected at node 'sequential_2/resnet50/conv3_block1_0_conv/Conv2D' defined at (most recent call last):\n    File \"c:\\Anaconda\\envs\\tgpu\\lib\\runpy.py\", line 196, in _run_module_as_main\n      return _run_code(code, main_globals, None,\n    File \"c:\\Anaconda\\envs\\tgpu\\lib\\runpy.py\", line 86, in _run_code\n      exec(code, run_globals)\n    File \"c:\\Anaconda\\envs\\tgpu\\lib\\site-packages\\ipykernel_launcher.py\", line 18, in <module>\n      app.launch_new_instance()\n    File \"c:\\Anaconda\\envs\\tgpu\\lib\\site-packages\\traitlets\\config\\application.py\", line 1075, in launch_instance\n      app.start()\n    File \"c:\\Anaconda\\envs\\tgpu\\lib\\site-packages\\ipykernel\\kernelapp.py\", line 739, in start\n      self.io_loop.start()\n    File \"c:\\Anaconda\\envs\\tgpu\\lib\\site-packages\\tornado\\platform\\asyncio.py\", line 205, in start\n      self.asyncio_loop.run_forever()\n    File \"c:\\Anaconda\\envs\\tgpu\\lib\\asyncio\\base_events.py\", line 603, in run_forever\n      self._run_once()\n    File \"c:\\Anaconda\\envs\\tgpu\\lib\\asyncio\\base_events.py\", line 1909, in _run_once\n      handle._run()\n    File \"c:\\Anaconda\\envs\\tgpu\\lib\\asyncio\\events.py\", line 80, in _run\n      self._context.run(self._callback, *self._args)\n    File \"c:\\Anaconda\\envs\\tgpu\\lib\\site-packages\\ipykernel\\kernelbase.py\", line 545, in dispatch_queue\n      await self.process_one()\n    File \"c:\\Anaconda\\envs\\tgpu\\lib\\site-packages\\ipykernel\\kernelbase.py\", line 534, in process_one\n      await dispatch(*args)\n    File \"c:\\Anaconda\\envs\\tgpu\\lib\\site-packages\\ipykernel\\kernelbase.py\", line 437, in dispatch_shell\n      await result\n    File \"c:\\Anaconda\\envs\\tgpu\\lib\\site-packages\\ipykernel\\ipkernel.py\", line 359, in execute_request\n      await super().execute_request(stream, ident, parent)\n    File \"c:\\Anaconda\\envs\\tgpu\\lib\\site-packages\\ipykernel\\kernelbase.py\", line 778, in execute_request\n      reply_content = await reply_content\n    File \"c:\\Anaconda\\envs\\tgpu\\lib\\site-packages\\ipykernel\\ipkernel.py\", line 446, in do_execute\n      res = shell.run_cell(\n    File \"c:\\Anaconda\\envs\\tgpu\\lib\\site-packages\\ipykernel\\zmqshell.py\", line 549, in run_cell\n      return super().run_cell(*args, **kwargs)\n    File \"c:\\Anaconda\\envs\\tgpu\\lib\\site-packages\\IPython\\core\\interactiveshell.py\", line 3075, in run_cell\n      result = self._run_cell(\n    File \"c:\\Anaconda\\envs\\tgpu\\lib\\site-packages\\IPython\\core\\interactiveshell.py\", line 3130, in _run_cell\n      result = runner(coro)\n    File \"c:\\Anaconda\\envs\\tgpu\\lib\\site-packages\\IPython\\core\\async_helpers.py\", line 129, in _pseudo_sync_runner\n      coro.send(None)\n    File \"c:\\Anaconda\\envs\\tgpu\\lib\\site-packages\\IPython\\core\\interactiveshell.py\", line 3334, in run_cell_async\n      has_raised = await self.run_ast_nodes(code_ast.body, cell_name,\n    File \"c:\\Anaconda\\envs\\tgpu\\lib\\site-packages\\IPython\\core\\interactiveshell.py\", line 3517, in run_ast_nodes\n      if await self.run_code(code, result, async_=asy):\n    File \"c:\\Anaconda\\envs\\tgpu\\lib\\site-packages\\IPython\\core\\interactiveshell.py\", line 3577, in run_code\n      exec(code_obj, self.user_global_ns, self.user_ns)\n    File \"C:\\Users\\Ziad Thabet\\AppData\\Local\\Temp\\ipykernel_6380\\1256382896.py\", line 8, in <module>\n      history01 = resnetss01.fit(\n    File \"c:\\Anaconda\\envs\\tgpu\\lib\\site-packages\\keras\\utils\\traceback_utils.py\", line 65, in error_handler\n      return fn(*args, **kwargs)\n    File \"c:\\Anaconda\\envs\\tgpu\\lib\\site-packages\\keras\\engine\\training.py\", line 1564, in fit\n      tmp_logs = self.train_function(iterator)\n    File \"c:\\Anaconda\\envs\\tgpu\\lib\\site-packages\\keras\\engine\\training.py\", line 1160, in train_function\n      return step_function(self, iterator)\n    File \"c:\\Anaconda\\envs\\tgpu\\lib\\site-packages\\keras\\engine\\training.py\", line 1146, in step_function\n      outputs = model.distribute_strategy.run(run_step, args=(data,))\n    File \"c:\\Anaconda\\envs\\tgpu\\lib\\site-packages\\keras\\engine\\training.py\", line 1135, in run_step\n      outputs = model.train_step(data)\n    File \"c:\\Anaconda\\envs\\tgpu\\lib\\site-packages\\keras\\engine\\training.py\", line 993, in train_step\n      y_pred = self(x, training=True)\n    File \"c:\\Anaconda\\envs\\tgpu\\lib\\site-packages\\keras\\utils\\traceback_utils.py\", line 65, in error_handler\n      return fn(*args, **kwargs)\n    File \"c:\\Anaconda\\envs\\tgpu\\lib\\site-packages\\keras\\engine\\training.py\", line 557, in __call__\n      return super().__call__(*args, **kwargs)\n    File \"c:\\Anaconda\\envs\\tgpu\\lib\\site-packages\\keras\\utils\\traceback_utils.py\", line 65, in error_handler\n      return fn(*args, **kwargs)\n    File \"c:\\Anaconda\\envs\\tgpu\\lib\\site-packages\\keras\\engine\\base_layer.py\", line 1097, in __call__\n      outputs = call_fn(inputs, *args, **kwargs)\n    File \"c:\\Anaconda\\envs\\tgpu\\lib\\site-packages\\keras\\utils\\traceback_utils.py\", line 96, in error_handler\n      return fn(*args, **kwargs)\n    File \"c:\\Anaconda\\envs\\tgpu\\lib\\site-packages\\keras\\engine\\sequential.py\", line 410, in call\n      return super().call(inputs, training=training, mask=mask)\n    File \"c:\\Anaconda\\envs\\tgpu\\lib\\site-packages\\keras\\engine\\functional.py\", line 510, in call\n      return self._run_internal_graph(inputs, training=training, mask=mask)\n    File \"c:\\Anaconda\\envs\\tgpu\\lib\\site-packages\\keras\\engine\\functional.py\", line 667, in _run_internal_graph\n      outputs = node.layer(*args, **kwargs)\n    File \"c:\\Anaconda\\envs\\tgpu\\lib\\site-packages\\keras\\utils\\traceback_utils.py\", line 65, in error_handler\n      return fn(*args, **kwargs)\n    File \"c:\\Anaconda\\envs\\tgpu\\lib\\site-packages\\keras\\engine\\training.py\", line 557, in __call__\n      return super().__call__(*args, **kwargs)\n    File \"c:\\Anaconda\\envs\\tgpu\\lib\\site-packages\\keras\\utils\\traceback_utils.py\", line 65, in error_handler\n      return fn(*args, **kwargs)\n    File \"c:\\Anaconda\\envs\\tgpu\\lib\\site-packages\\keras\\engine\\base_layer.py\", line 1097, in __call__\n      outputs = call_fn(inputs, *args, **kwargs)\n    File \"c:\\Anaconda\\envs\\tgpu\\lib\\site-packages\\keras\\utils\\traceback_utils.py\", line 96, in error_handler\n      return fn(*args, **kwargs)\n    File \"c:\\Anaconda\\envs\\tgpu\\lib\\site-packages\\keras\\engine\\functional.py\", line 510, in call\n      return self._run_internal_graph(inputs, training=training, mask=mask)\n    File \"c:\\Anaconda\\envs\\tgpu\\lib\\site-packages\\keras\\engine\\functional.py\", line 667, in _run_internal_graph\n      outputs = node.layer(*args, **kwargs)\n    File \"c:\\Anaconda\\envs\\tgpu\\lib\\site-packages\\keras\\utils\\traceback_utils.py\", line 65, in error_handler\n      return fn(*args, **kwargs)\n    File \"c:\\Anaconda\\envs\\tgpu\\lib\\site-packages\\keras\\engine\\base_layer.py\", line 1097, in __call__\n      outputs = call_fn(inputs, *args, **kwargs)\n    File \"c:\\Anaconda\\envs\\tgpu\\lib\\site-packages\\keras\\utils\\traceback_utils.py\", line 96, in error_handler\n      return fn(*args, **kwargs)\n    File \"c:\\Anaconda\\envs\\tgpu\\lib\\site-packages\\keras\\layers\\convolutional\\base_conv.py\", line 283, in call\n      outputs = self.convolution_op(inputs, self.kernel)\n    File \"c:\\Anaconda\\envs\\tgpu\\lib\\site-packages\\keras\\layers\\convolutional\\base_conv.py\", line 255, in convolution_op\n      return tf.nn.convolution(\nNode: 'sequential_2/resnet50/conv3_block1_0_conv/Conv2D'\nOOM when allocating tensor with shape[32,512,19,19] and type float on /job:localhost/replica:0/task:0/device:GPU:0 by allocator GPU_0_bfc\n\t [[{{node sequential_2/resnet50/conv3_block1_0_conv/Conv2D}}]]\nHint: If you want to see a list of allocated tensors when OOM happens, add report_tensor_allocations_upon_oom to RunOptions for current allocation info. This isn't available when running in Eager mode.\n [Op:__inference_train_function_70864]"
     ]
    }
   ],
   "source": [
    "for train_index, val_index in kf.split(x_temp):\n",
    "    x_train_fold, x_val_fold = x_temp[train_index], x_temp[val_index]\n",
    "    y_train_fold, y_val_fold = y_temp[train_index], y_temp[val_index]\n",
    "\n",
    "    resnetss01 = create_model()\n",
    "\n",
    "    print(f\"Training fold {fold_no}...\")\n",
    "    history01 = resnetss01.fit(\n",
    "        x_train_fold,\n",
    "        y_train_fold,\n",
    "        batch_size=32,\n",
    "        validation_data=(x_val_fold, y_val_fold),\n",
    "        epochs=50,\n",
    "        callbacks=earlystop,\n",
    "    )\n",
    "\n",
    "    scores = resnetss01.evaluate(x_val_fold, y_val_fold, verbose=0)\n",
    "    print(\n",
    "        f\"Score for fold {fold_no}: {resnetss01.metrics_names[0]} of {scores[0]}; {resnetss01.metrics_names[1]} of {scores[1]*100}%\"\n",
    "    )\n",
    "    acc_per_fold.append(scores[1] * 100)\n",
    "    loss_per_fold.append(scores[0])\n",
    "\n",
    "    fold_no += 1\n",
    "\n",
    "    print(acc_per_fold)\n",
    "    print(loss_per_fold)"
   ]
  },
  {
   "cell_type": "code",
   "execution_count": null,
   "metadata": {},
   "outputs": [],
   "source": [
    "# Print overall results\n",
    "print(\"Average scores for all folds:\")\n",
    "print(f\"> Accuracy: {np.average(acc_per_fold)}\")\n",
    "print(f\"> Loss: {np.average(loss_per_fold)}\")\n",
    "\n",
    "print(\"Scores per fold:\")\n",
    "for i in range(len(acc_per_fold)):\n",
    "    print(f\"> Fold {i+1} - Loss: {loss_per_fold[i]} - Accuracy: {acc_per_fold[i]}%\")"
   ]
  },
  {
   "cell_type": "code",
   "execution_count": null,
   "metadata": {},
   "outputs": [],
   "source": [
    "plt.figure(figsize=(12, 6))\n",
    "\n",
    "plt.subplot(1, 2, 1)\n",
    "plt.plot(history01.history[\"loss\"], label=\"Training Loss\")\n",
    "plt.plot(history01.history[\"val_loss\"], label=\"Validation Loss\")\n",
    "plt.title(\"Model Loss\")\n",
    "plt.xlabel(\"Epoch\")\n",
    "plt.ylabel(\"Loss\")\n",
    "plt.legend()\n",
    "\n",
    "plt.subplot(1, 2, 2)\n",
    "plt.plot(history01.history[\"accuracy\"], label=\"Training Accuracy\")\n",
    "plt.plot(history01.history[\"val_accuracy\"], label=\"Validation Accuracy\")\n",
    "plt.title(\"Model Accuracy\")\n",
    "plt.xlabel(\"Epoch\")\n",
    "plt.ylabel(\"Accuracy\")\n",
    "plt.legend()"
   ]
  },
  {
   "cell_type": "code",
   "execution_count": null,
   "metadata": {},
   "outputs": [],
   "source": [
    "test_loss, test_acc = resnetss01.evaluate(x_test, y_test)\n",
    "print(f\"Test accuracy: {test_acc}\")\n",
    "print(f\"Test loss: {test_loss}\")"
   ]
  },
  {
   "cell_type": "code",
   "execution_count": null,
   "metadata": {},
   "outputs": [],
   "source": [
    "y_pred_probs = resnetss01.predict(x_test)\n",
    "y_pred = np.argmax(y_pred_probs, axis=1)\n",
    "y_true = np.argmax(y_test, axis=1)"
   ]
  },
  {
   "cell_type": "code",
   "execution_count": null,
   "metadata": {},
   "outputs": [],
   "source": [
    "conf_matrix = confusion_matrix(y_true, y_pred)\n",
    "\n",
    "accuracy = accuracy_score(y_true, y_pred)\n",
    "\n",
    "\n",
    "precision = precision_score(y_true, y_pred, average=\"weighted\")\n",
    "\n",
    "\n",
    "recall = recall_score(y_true, y_pred, average=\"weighted\")\n",
    "\n",
    "\n",
    "f1 = f1_score(y_true, y_pred, average=\"weighted\")\n",
    "\n",
    "print(f\"Accuracy: {accuracy}\")\n",
    "\n",
    "print(f\"Precision: {precision}\")\n",
    "\n",
    "print(f\"Recall: {recall}\")\n",
    "\n",
    "print(f\"F1 Score: {f1}\")"
   ]
  },
  {
   "cell_type": "code",
   "execution_count": null,
   "metadata": {},
   "outputs": [],
   "source": [
    "plt.figure(figsize=(10, 8))\n",
    "sns.heatmap(\n",
    "    conf_matrix,\n",
    "    annot=True,\n",
    "    fmt=\"d\",\n",
    "    cmap=\"Blues\",\n",
    "    xticklabels=lb.classes_,\n",
    "    yticklabels=lb.classes_,\n",
    ")\n",
    "plt.xlabel(\"Predicted\")\n",
    "plt.ylabel(\"Actual\")\n",
    "plt.title(\"Confusion Matrix\")\n",
    "plt.show()"
   ]
  },
  {
   "cell_type": "code",
   "execution_count": null,
   "metadata": {},
   "outputs": [],
   "source": [
    "model_directory = \"Models\"\n",
    "if not os.path.exists(model_directory):\n",
    "    os.makedirs(model_directory)\n",
    "model_path = os.path.join(model_directory, \"ResNet50_AUG_K_Fold_02(150x150).h5\")\n",
    "resnetss01.save(model_path)\n",
    "print(f\"Model saved to {model_path}\")"
   ]
  }
 ],
 "metadata": {
  "kernelspec": {
   "display_name": "tensorflowgpu",
   "language": "python",
   "name": "python3"
  },
  "language_info": {
   "codemirror_mode": {
    "name": "ipython",
    "version": 3
   },
   "file_extension": ".py",
   "mimetype": "text/x-python",
   "name": "python",
   "nbconvert_exporter": "python",
   "pygments_lexer": "ipython3",
   "version": "3.10.14"
  }
 },
 "nbformat": 4,
 "nbformat_minor": 2
}
